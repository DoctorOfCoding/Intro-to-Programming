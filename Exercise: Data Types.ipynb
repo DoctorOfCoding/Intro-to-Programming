{
 "cells": [
  {
   "cell_type": "markdown",
   "id": "dc11e0b1",
   "metadata": {
    "papermill": {
     "duration": 0.004566,
     "end_time": "2025-06-07T10:51:02.403556",
     "exception": false,
     "start_time": "2025-06-07T10:51:02.398990",
     "status": "completed"
    },
    "tags": []
   },
   "source": [
    "**This notebook is an exercise in the [Intro to Programming](https://www.kaggle.com/learn/intro-to-programming) course.  You can reference the tutorial at [this link](https://www.kaggle.com/alexisbcook/data-types).**\n",
    "\n",
    "---\n"
   ]
  },
  {
   "cell_type": "markdown",
   "id": "342fd742",
   "metadata": {
    "papermill": {
     "duration": 0.003127,
     "end_time": "2025-06-07T10:51:02.410115",
     "exception": false,
     "start_time": "2025-06-07T10:51:02.406988",
     "status": "completed"
    },
    "tags": []
   },
   "source": [
    "In the tutorial, you learned about four different data types: floats, integers, strings, and booleans.  In this exercise, you'll experiment with them.\n",
    "\n",
    "# Set up the notebook\n",
    "\n",
    "Run the next code cell without changes to set up the notebook."
   ]
  },
  {
   "cell_type": "code",
   "execution_count": 1,
   "id": "6ba36113",
   "metadata": {
    "execution": {
     "iopub.execute_input": "2025-06-07T10:51:02.417935Z",
     "iopub.status.busy": "2025-06-07T10:51:02.417660Z",
     "iopub.status.idle": "2025-06-07T10:51:04.289028Z",
     "shell.execute_reply": "2025-06-07T10:51:04.287822Z"
    },
    "papermill": {
     "duration": 1.877408,
     "end_time": "2025-06-07T10:51:04.290726",
     "exception": false,
     "start_time": "2025-06-07T10:51:02.413318",
     "status": "completed"
    },
    "tags": []
   },
   "outputs": [
    {
     "name": "stdout",
     "output_type": "stream",
     "text": [
      "Setup complete.\n"
     ]
    }
   ],
   "source": [
    "# Set up the exercise\n",
    "from learntools.core import binder\n",
    "binder.bind(globals())\n",
    "from learntools.intro_to_programming.ex3 import *\n",
    "print('Setup complete.')"
   ]
  },
  {
   "cell_type": "markdown",
   "id": "a431cceb",
   "metadata": {
    "papermill": {
     "duration": 0.003267,
     "end_time": "2025-06-07T10:51:04.298063",
     "exception": false,
     "start_time": "2025-06-07T10:51:04.294796",
     "status": "completed"
    },
    "tags": []
   },
   "source": [
    "# Question 1\n",
    "\n",
    "You have seen how to convert a float to an integer with the `int` function.  Try this out yourself by running the code cell below."
   ]
  },
  {
   "cell_type": "code",
   "execution_count": 2,
   "id": "46058fd0",
   "metadata": {
    "execution": {
     "iopub.execute_input": "2025-06-07T10:51:04.306272Z",
     "iopub.status.busy": "2025-06-07T10:51:04.305877Z",
     "iopub.status.idle": "2025-06-07T10:51:04.312031Z",
     "shell.execute_reply": "2025-06-07T10:51:04.310807Z"
    },
    "papermill": {
     "duration": 0.011775,
     "end_time": "2025-06-07T10:51:04.313268",
     "exception": false,
     "start_time": "2025-06-07T10:51:04.301493",
     "status": "completed"
    },
    "tags": []
   },
   "outputs": [
    {
     "name": "stdout",
     "output_type": "stream",
     "text": [
      "1.0\n",
      "<class 'float'>\n",
      "1\n",
      "<class 'int'>\n"
     ]
    }
   ],
   "source": [
    "# Define a float\n",
    "y = 1.\n",
    "print(y)\n",
    "print(type(y))\n",
    "\n",
    "# Convert float to integer with the int function\n",
    "z = int(y)\n",
    "print(z)\n",
    "print(type(z))"
   ]
  },
  {
   "cell_type": "markdown",
   "id": "ecb82cdb",
   "metadata": {
    "papermill": {
     "duration": 0.003402,
     "end_time": "2025-06-07T10:51:04.320532",
     "exception": false,
     "start_time": "2025-06-07T10:51:04.317130",
     "status": "completed"
    },
    "tags": []
   },
   "source": [
    "In this case, the float you are using has no numbers after the decimal.  \n",
    "- But what happens when you try to convert a float with a fractional part to an integer?  \n",
    "- How does the outcome of the `int` function change for positive and negative numbers?\n",
    "\n",
    "Use the next code cell to investigate and answer these questions.  Feel free to add or remove any lines of code -- it is your workspace!"
   ]
  },
  {
   "cell_type": "code",
   "execution_count": 3,
   "id": "91dba3ce",
   "metadata": {
    "execution": {
     "iopub.execute_input": "2025-06-07T10:51:04.328667Z",
     "iopub.status.busy": "2025-06-07T10:51:04.328382Z",
     "iopub.status.idle": "2025-06-07T10:51:04.333492Z",
     "shell.execute_reply": "2025-06-07T10:51:04.332176Z"
    },
    "papermill": {
     "duration": 0.011112,
     "end_time": "2025-06-07T10:51:04.335169",
     "exception": false,
     "start_time": "2025-06-07T10:51:04.324057",
     "status": "completed"
    },
    "tags": []
   },
   "outputs": [
    {
     "name": "stdout",
     "output_type": "stream",
     "text": [
      "1\n",
      "1\n",
      "-3\n",
      "-2\n"
     ]
    }
   ],
   "source": [
    "# Uncomment and run this code to get started!\n",
    "print(int(1.2321))\n",
    "print(int(1.747))\n",
    "print(int(-3.94535))\n",
    "print(int(-2.19774))"
   ]
  },
  {
   "cell_type": "markdown",
   "id": "563a8c92",
   "metadata": {
    "papermill": {
     "duration": 0.003553,
     "end_time": "2025-06-07T10:51:04.342899",
     "exception": false,
     "start_time": "2025-06-07T10:51:04.339346",
     "status": "completed"
    },
    "tags": []
   },
   "source": [
    "Once you have an answer, run the code cell below to see the solution.  Viewing the solution will give you credit for answering the problem."
   ]
  },
  {
   "cell_type": "code",
   "execution_count": 4,
   "id": "00a2c9ff",
   "metadata": {
    "execution": {
     "iopub.execute_input": "2025-06-07T10:51:04.351507Z",
     "iopub.status.busy": "2025-06-07T10:51:04.351190Z",
     "iopub.status.idle": "2025-06-07T10:51:04.358826Z",
     "shell.execute_reply": "2025-06-07T10:51:04.358010Z"
    },
    "papermill": {
     "duration": 0.013686,
     "end_time": "2025-06-07T10:51:04.360268",
     "exception": false,
     "start_time": "2025-06-07T10:51:04.346582",
     "status": "completed"
    },
    "tags": []
   },
   "outputs": [
    {
     "data": {
      "application/javascript": [
       "parent.postMessage({\"jupyterEvent\": \"custom.exercise_interaction\", \"data\": {\"outcomeType\": 1, \"valueTowardsCompletion\": 0.2, \"interactionType\": 1, \"questionType\": 4, \"questionId\": \"1_FloatToInt\", \"learnToolsVersion\": \"0.3.5\", \"failureMessage\": \"\", \"exceptionClass\": \"\", \"trace\": \"\"}}, \"*\")"
      ],
      "text/plain": [
       "<IPython.core.display.Javascript object>"
      ]
     },
     "metadata": {},
     "output_type": "display_data"
    },
    {
     "data": {
      "text/markdown": [
       "<span style=\"color:#33cc33\">Correct:</span> \n",
       "\n",
       "Negative floats are always rounded UP to the closest integer (for instance, both -1.1 and -1.9 are rounded up to -1). Positive floats are always rounded DOWN to the closest integer (for instance, 2.1 and 2.9 are rounded down to 2)."
      ],
      "text/plain": [
       "Correct: \n",
       "\n",
       "Negative floats are always rounded UP to the closest integer (for instance, both -1.1 and -1.9 are rounded up to -1). Positive floats are always rounded DOWN to the closest integer (for instance, 2.1 and 2.9 are rounded down to 2)."
      ]
     },
     "metadata": {},
     "output_type": "display_data"
    }
   ],
   "source": [
    "# Check your answer (Run this code cell to receive credit!)\n",
    "q1.check()"
   ]
  },
  {
   "cell_type": "markdown",
   "id": "66709f8e",
   "metadata": {
    "papermill": {
     "duration": 0.003476,
     "end_time": "2025-06-07T10:51:04.368169",
     "exception": false,
     "start_time": "2025-06-07T10:51:04.364693",
     "status": "completed"
    },
    "tags": []
   },
   "source": [
    "# Question 2\n",
    "\n",
    "In the tutorial, you learned about booleans (which can take a value of `True` or `False`), in addition to integers, floats, and strings.  For this question, your goal is to determine what happens when you multiply a boolean by any of these data types.  Specifically, \n",
    "- What happens when you multiply an integer or float by `True`?  What happens when you multiply them by `False`?  How does the answer change if the numbers are positive or negative?\n",
    "- What happens when you multiply a string by `True`?  By `False`?\n",
    "\n",
    "Use the next code cell for your investigation. "
   ]
  },
  {
   "cell_type": "code",
   "execution_count": 5,
   "id": "060f2dff",
   "metadata": {
    "execution": {
     "iopub.execute_input": "2025-06-07T10:51:04.376463Z",
     "iopub.status.busy": "2025-06-07T10:51:04.376211Z",
     "iopub.status.idle": "2025-06-07T10:51:04.381121Z",
     "shell.execute_reply": "2025-06-07T10:51:04.379954Z"
    },
    "papermill": {
     "duration": 0.011214,
     "end_time": "2025-06-07T10:51:04.382960",
     "exception": false,
     "start_time": "2025-06-07T10:51:04.371746",
     "status": "completed"
    },
    "tags": []
   },
   "outputs": [
    {
     "name": "stdout",
     "output_type": "stream",
     "text": [
      "3\n",
      "-3.1\n",
      "<class 'str'>\n",
      "0\n"
     ]
    }
   ],
   "source": [
    "# Uncomment and run this code to get started!\n",
    "print(3 * True)\n",
    "print(-3.1 * True)\n",
    "print(type(\"abc\" * False))\n",
    "print(len(\"abc\" * False))"
   ]
  },
  {
   "cell_type": "markdown",
   "id": "fd27c92b",
   "metadata": {
    "papermill": {
     "duration": 0.0038,
     "end_time": "2025-06-07T10:51:04.391879",
     "exception": false,
     "start_time": "2025-06-07T10:51:04.388079",
     "status": "completed"
    },
    "tags": []
   },
   "source": [
    "Once you have an answer, run the code cell below to see the solution.  Viewing the solution will give you credit for answering the problem."
   ]
  },
  {
   "cell_type": "code",
   "execution_count": 6,
   "id": "ee7af208",
   "metadata": {
    "execution": {
     "iopub.execute_input": "2025-06-07T10:51:04.400137Z",
     "iopub.status.busy": "2025-06-07T10:51:04.399890Z",
     "iopub.status.idle": "2025-06-07T10:51:04.405797Z",
     "shell.execute_reply": "2025-06-07T10:51:04.405046Z"
    },
    "papermill": {
     "duration": 0.011459,
     "end_time": "2025-06-07T10:51:04.406930",
     "exception": false,
     "start_time": "2025-06-07T10:51:04.395471",
     "status": "completed"
    },
    "tags": []
   },
   "outputs": [
    {
     "data": {
      "application/javascript": [
       "parent.postMessage({\"jupyterEvent\": \"custom.exercise_interaction\", \"data\": {\"outcomeType\": 1, \"valueTowardsCompletion\": 0.2, \"interactionType\": 1, \"questionType\": 4, \"questionId\": \"2_MultiplyBooleans\", \"learnToolsVersion\": \"0.3.5\", \"failureMessage\": \"\", \"exceptionClass\": \"\", \"trace\": \"\"}}, \"*\")"
      ],
      "text/plain": [
       "<IPython.core.display.Javascript object>"
      ]
     },
     "metadata": {},
     "output_type": "display_data"
    },
    {
     "data": {
      "text/markdown": [
       "<span style=\"color:#33cc33\">Correct:</span> \n",
       "\n",
       "When you multiple an integer or float by a boolean with value `True`, it just returns that same integer or float (and is equivalent to multiplying by 1).  If you multiply an integer or float by a boolean with value `False`, it always returns 0.  This is true for both positive and negative numbers.  If you multiply a string by a boolean with value `True`, it just returns that same string.  And if you multiply a string by a boolean with value `False`, it returns an empty string (or a string with length zero)."
      ],
      "text/plain": [
       "Correct: \n",
       "\n",
       "When you multiple an integer or float by a boolean with value `True`, it just returns that same integer or float (and is equivalent to multiplying by 1).  If you multiply an integer or float by a boolean with value `False`, it always returns 0.  This is true for both positive and negative numbers.  If you multiply a string by a boolean with value `True`, it just returns that same string.  And if you multiply a string by a boolean with value `False`, it returns an empty string (or a string with length zero)."
      ]
     },
     "metadata": {},
     "output_type": "display_data"
    }
   ],
   "source": [
    "# Check your answer (Run this code cell to receive credit!)\n",
    "q2.check()"
   ]
  },
  {
   "cell_type": "markdown",
   "id": "8d2dac07",
   "metadata": {
    "papermill": {
     "duration": 0.003542,
     "end_time": "2025-06-07T10:51:04.414569",
     "exception": false,
     "start_time": "2025-06-07T10:51:04.411027",
     "status": "completed"
    },
    "tags": []
   },
   "source": [
    "# Question 3\n",
    "\n",
    "In this question, you will build off your work from the previous exercise to write a function that estimates the value of a house.\n",
    "\n",
    "Use the next code cell to create a function `get_expected_cost` that takes as input three variables:\n",
    "- `beds` - number of bedrooms (data type float)\n",
    "- `baths` - number of bathrooms (data type float)\n",
    "- `has_basement` - whether or not the house has a basement (data type boolean)\n",
    "\n",
    "It should return the expected cost of a house with those characteristics. Assume that:\n",
    "- the expected cost for a house with 0 bedrooms and 0 bathrooms, and no basement is 80000, \n",
    "- each bedroom adds 30000 to the expected cost,\n",
    "- each bathroom adds 10000 to the expected cost, and\n",
    "- a basement adds 40000 to the expected cost.\n",
    "\n",
    "For instance,\n",
    "- a house with 1 bedroom, 1 bathroom, and no basement has an expected cost of 80000 + 30000 + 10000 = 120000.  This value will be calculated with `get_expected_cost(1, 1, False)`.\n",
    "- a house with 2 bedrooms, 1 bathroom, and a basement has an expected cost of 80000 + 2*30000 + 10000 + 40000 = 190000.  This value will be calculated with `get_expected_cost(2, 1, True)`.\n",
    "\n",
    "Remember you can always get a hint by uncommenting `q3.hint()` in the code cell following the next!"
   ]
  },
  {
   "cell_type": "code",
   "execution_count": 7,
   "id": "c8af9958",
   "metadata": {
    "execution": {
     "iopub.execute_input": "2025-06-07T10:51:04.423351Z",
     "iopub.status.busy": "2025-06-07T10:51:04.423071Z",
     "iopub.status.idle": "2025-06-07T10:51:04.430152Z",
     "shell.execute_reply": "2025-06-07T10:51:04.429516Z"
    },
    "papermill": {
     "duration": 0.013055,
     "end_time": "2025-06-07T10:51:04.431301",
     "exception": false,
     "start_time": "2025-06-07T10:51:04.418246",
     "status": "completed"
    },
    "tags": []
   },
   "outputs": [
    {
     "data": {
      "application/javascript": [
       "parent.postMessage({\"jupyterEvent\": \"custom.exercise_interaction\", \"data\": {\"outcomeType\": 1, \"valueTowardsCompletion\": 0.2, \"interactionType\": 1, \"questionType\": 2, \"questionId\": \"3_EstimateHouseValueBool\", \"learnToolsVersion\": \"0.3.5\", \"failureMessage\": \"\", \"exceptionClass\": \"\", \"trace\": \"\"}}, \"*\")"
      ],
      "text/plain": [
       "<IPython.core.display.Javascript object>"
      ]
     },
     "metadata": {},
     "output_type": "display_data"
    },
    {
     "data": {
      "text/markdown": [
       "<span style=\"color:#33cc33\">Correct</span>"
      ],
      "text/plain": [
       "Correct"
      ]
     },
     "metadata": {},
     "output_type": "display_data"
    }
   ],
   "source": [
    "# TODO: Complete the function\n",
    "def get_expected_cost(beds, baths, has_basement):\n",
    "    value = 80000 + beds * 30000 + baths * 10000\n",
    "    if has_basement:\n",
    "        value += 40000\n",
    "    return value\n",
    "\n",
    "# Check your answer \n",
    "q3.check()"
   ]
  },
  {
   "cell_type": "code",
   "execution_count": 8,
   "id": "313b0698",
   "metadata": {
    "execution": {
     "iopub.execute_input": "2025-06-07T10:51:04.440729Z",
     "iopub.status.busy": "2025-06-07T10:51:04.440358Z",
     "iopub.status.idle": "2025-06-07T10:51:04.445063Z",
     "shell.execute_reply": "2025-06-07T10:51:04.443840Z"
    },
    "papermill": {
     "duration": 0.010689,
     "end_time": "2025-06-07T10:51:04.446324",
     "exception": false,
     "start_time": "2025-06-07T10:51:04.435635",
     "status": "completed"
    },
    "tags": []
   },
   "outputs": [],
   "source": [
    "# Uncomment to see a hint\n",
    "#q3.hint()\n",
    "\n",
    "# Uncomment to view the solution\n",
    "#q3.solution()"
   ]
  },
  {
   "cell_type": "markdown",
   "id": "b3352d17",
   "metadata": {
    "papermill": {
     "duration": 0.003788,
     "end_time": "2025-06-07T10:51:04.454439",
     "exception": false,
     "start_time": "2025-06-07T10:51:04.450651",
     "status": "completed"
    },
    "tags": []
   },
   "source": [
    "# Question 4\n",
    "\n",
    "We'll continue our study of boolean arithmetic.  For this question, your task is to provide a description of what happpens when you add booleans. \n",
    "\n",
    "Use the next code cell for your investigation.  Feel free to add or remove any lines of code - use it as your workspace!"
   ]
  },
  {
   "cell_type": "code",
   "execution_count": 9,
   "id": "994ed608",
   "metadata": {
    "execution": {
     "iopub.execute_input": "2025-06-07T10:51:04.463365Z",
     "iopub.status.busy": "2025-06-07T10:51:04.463118Z",
     "iopub.status.idle": "2025-06-07T10:51:04.469364Z",
     "shell.execute_reply": "2025-06-07T10:51:04.468282Z"
    },
    "papermill": {
     "duration": 0.01276,
     "end_time": "2025-06-07T10:51:04.471082",
     "exception": false,
     "start_time": "2025-06-07T10:51:04.458322",
     "status": "completed"
    },
    "tags": []
   },
   "outputs": [
    {
     "name": "stdout",
     "output_type": "stream",
     "text": [
      "0\n",
      "1\n",
      "1\n",
      "2\n",
      "3\n"
     ]
    }
   ],
   "source": [
    "print(False + False)\n",
    "print(True + False)\n",
    "print(False + True)\n",
    "print(True + True)\n",
    "print(False + True + True + True)"
   ]
  },
  {
   "cell_type": "markdown",
   "id": "6fc89202",
   "metadata": {
    "papermill": {
     "duration": 0.004066,
     "end_time": "2025-06-07T10:51:04.479728",
     "exception": false,
     "start_time": "2025-06-07T10:51:04.475662",
     "status": "completed"
    },
    "tags": []
   },
   "source": [
    "Once you have an answer, run the code cell below to see the solution.  Viewing the solution will give you credit for answering the problem."
   ]
  },
  {
   "cell_type": "code",
   "execution_count": 10,
   "id": "87109c6a",
   "metadata": {
    "execution": {
     "iopub.execute_input": "2025-06-07T10:51:04.490740Z",
     "iopub.status.busy": "2025-06-07T10:51:04.490197Z",
     "iopub.status.idle": "2025-06-07T10:51:04.497515Z",
     "shell.execute_reply": "2025-06-07T10:51:04.496694Z"
    },
    "papermill": {
     "duration": 0.014147,
     "end_time": "2025-06-07T10:51:04.499184",
     "exception": false,
     "start_time": "2025-06-07T10:51:04.485037",
     "status": "completed"
    },
    "tags": []
   },
   "outputs": [
    {
     "data": {
      "application/javascript": [
       "parent.postMessage({\"jupyterEvent\": \"custom.exercise_interaction\", \"data\": {\"outcomeType\": 1, \"valueTowardsCompletion\": 0.2, \"interactionType\": 1, \"questionType\": 4, \"questionId\": \"4_AddingBooleans\", \"learnToolsVersion\": \"0.3.5\", \"failureMessage\": \"\", \"exceptionClass\": \"\", \"trace\": \"\"}}, \"*\")"
      ],
      "text/plain": [
       "<IPython.core.display.Javascript object>"
      ]
     },
     "metadata": {},
     "output_type": "display_data"
    },
    {
     "data": {
      "text/markdown": [
       "<span style=\"color:#33cc33\">Correct:</span> \n",
       "\n",
       "When you add booleans, adding `False` is equivalent to adding 0, and adding `True` is equivalent to adding 1."
      ],
      "text/plain": [
       "Correct: \n",
       "\n",
       "When you add booleans, adding `False` is equivalent to adding 0, and adding `True` is equivalent to adding 1."
      ]
     },
     "metadata": {},
     "output_type": "display_data"
    }
   ],
   "source": [
    "# Check your answer (Run this code cell to receive credit!)\n",
    "q4.check()"
   ]
  },
  {
   "cell_type": "markdown",
   "id": "167224e6",
   "metadata": {
    "papermill": {
     "duration": 0.004148,
     "end_time": "2025-06-07T10:51:04.508162",
     "exception": false,
     "start_time": "2025-06-07T10:51:04.504014",
     "status": "completed"
    },
    "tags": []
   },
   "source": [
    "# 🌶️ Question 5\n",
    "\n",
    "You own an online shop where you sell rings with custom engravings.  You offer both gold plated and solid gold rings.\n",
    "- Gold plated rings have a base cost of \\\\$50, and you charge \\\\$7 per engraved unit.  \n",
    "- Solid gold rings have a base cost of \\\\$100, and you charge \\\\$10 per engraved unit.\n",
    "- Spaces and punctuation are counted as engraved units.\n",
    "\n",
    "Write a function `cost_of_project()` that takes two arguments:\n",
    "- `engraving` - a Python string with the text of the engraving\n",
    "- `solid_gold` - a Boolean that indicates whether the ring is solid gold\n",
    "\n",
    "It should return the cost of the project.  This question should be fairly challenging, and you may need a hint."
   ]
  },
  {
   "cell_type": "code",
   "execution_count": 11,
   "id": "e11040ce",
   "metadata": {
    "execution": {
     "iopub.execute_input": "2025-06-07T10:51:04.517814Z",
     "iopub.status.busy": "2025-06-07T10:51:04.517421Z",
     "iopub.status.idle": "2025-06-07T10:51:04.526647Z",
     "shell.execute_reply": "2025-06-07T10:51:04.525345Z"
    },
    "papermill": {
     "duration": 0.015948,
     "end_time": "2025-06-07T10:51:04.528236",
     "exception": false,
     "start_time": "2025-06-07T10:51:04.512288",
     "status": "completed"
    },
    "tags": []
   },
   "outputs": [
    {
     "data": {
      "application/javascript": [
       "parent.postMessage({\"jupyterEvent\": \"custom.exercise_interaction\", \"data\": {\"outcomeType\": 1, \"valueTowardsCompletion\": 0.2, \"interactionType\": 1, \"questionType\": 2, \"questionId\": \"5_CustomEngravings\", \"learnToolsVersion\": \"0.3.5\", \"failureMessage\": \"\", \"exceptionClass\": \"\", \"trace\": \"\"}}, \"*\")"
      ],
      "text/plain": [
       "<IPython.core.display.Javascript object>"
      ]
     },
     "metadata": {},
     "output_type": "display_data"
    },
    {
     "data": {
      "text/markdown": [
       "<span style=\"color:#33cc33\">Correct</span>"
      ],
      "text/plain": [
       "Correct"
      ]
     },
     "metadata": {},
     "output_type": "display_data"
    }
   ],
   "source": [
    "def cost_of_project(engraving, solid_gold):\n",
    "    if solid_gold:\n",
    "        base_cost = 100\n",
    "        per_unit_cost = 10\n",
    "    else:\n",
    "        base_cost = 50\n",
    "        per_unit_cost = 7\n",
    "    cost = base_cost + len(engraving) * per_unit_cost\n",
    "    return cost\n",
    "\n",
    "# Check your answer\n",
    "q5.check()"
   ]
  },
  {
   "cell_type": "code",
   "execution_count": 12,
   "id": "0d5ce4a8",
   "metadata": {
    "execution": {
     "iopub.execute_input": "2025-06-07T10:51:04.538653Z",
     "iopub.status.busy": "2025-06-07T10:51:04.538325Z",
     "iopub.status.idle": "2025-06-07T10:51:04.542382Z",
     "shell.execute_reply": "2025-06-07T10:51:04.541619Z"
    },
    "papermill": {
     "duration": 0.010838,
     "end_time": "2025-06-07T10:51:04.543992",
     "exception": false,
     "start_time": "2025-06-07T10:51:04.533154",
     "status": "completed"
    },
    "tags": []
   },
   "outputs": [],
   "source": [
    "# Uncomment to see a hint\n",
    "#q5.hint()\n",
    "\n",
    "# Uncomment to view the solution\n",
    "#q5.solution()"
   ]
  },
  {
   "cell_type": "markdown",
   "id": "3c1de570",
   "metadata": {
    "papermill": {
     "duration": 0.004073,
     "end_time": "2025-06-07T10:51:04.553021",
     "exception": false,
     "start_time": "2025-06-07T10:51:04.548948",
     "status": "completed"
    },
    "tags": []
   },
   "source": [
    "Run the next code cell to calculate the cost of engraving `Charlie+Denver` on a solid gold ring."
   ]
  },
  {
   "cell_type": "code",
   "execution_count": 13,
   "id": "b33b617d",
   "metadata": {
    "execution": {
     "iopub.execute_input": "2025-06-07T10:51:04.562686Z",
     "iopub.status.busy": "2025-06-07T10:51:04.562362Z",
     "iopub.status.idle": "2025-06-07T10:51:04.567466Z",
     "shell.execute_reply": "2025-06-07T10:51:04.566551Z"
    },
    "papermill": {
     "duration": 0.011701,
     "end_time": "2025-06-07T10:51:04.568873",
     "exception": false,
     "start_time": "2025-06-07T10:51:04.557172",
     "status": "completed"
    },
    "tags": []
   },
   "outputs": [
    {
     "name": "stdout",
     "output_type": "stream",
     "text": [
      "240\n"
     ]
    }
   ],
   "source": [
    "project_one = cost_of_project(\"Charlie+Denver\", True)\n",
    "print(project_one)"
   ]
  },
  {
   "cell_type": "markdown",
   "id": "94d735af",
   "metadata": {
    "papermill": {
     "duration": 0.004216,
     "end_time": "2025-06-07T10:51:04.577999",
     "exception": false,
     "start_time": "2025-06-07T10:51:04.573783",
     "status": "completed"
    },
    "tags": []
   },
   "source": [
    "Use the next code cell to calculate the cost of engraving `08/10/2000` on a gold plated ring."
   ]
  },
  {
   "cell_type": "code",
   "execution_count": 14,
   "id": "06d33efc",
   "metadata": {
    "execution": {
     "iopub.execute_input": "2025-06-07T10:51:04.588214Z",
     "iopub.status.busy": "2025-06-07T10:51:04.587508Z",
     "iopub.status.idle": "2025-06-07T10:51:04.592046Z",
     "shell.execute_reply": "2025-06-07T10:51:04.591068Z"
    },
    "papermill": {
     "duration": 0.010829,
     "end_time": "2025-06-07T10:51:04.593085",
     "exception": false,
     "start_time": "2025-06-07T10:51:04.582256",
     "status": "completed"
    },
    "tags": []
   },
   "outputs": [
    {
     "name": "stdout",
     "output_type": "stream",
     "text": [
      "120\n"
     ]
    }
   ],
   "source": [
    "project_two = cost_of_project(\"08/10/2000\", False)\n",
    "print(project_two)"
   ]
  },
  {
   "cell_type": "markdown",
   "id": "52ed3d40",
   "metadata": {
    "papermill": {
     "duration": 0.004038,
     "end_time": "2025-06-07T10:51:04.601994",
     "exception": false,
     "start_time": "2025-06-07T10:51:04.597956",
     "status": "completed"
    },
    "tags": []
   },
   "source": [
    "# Keep going\n",
    "\n",
    "Continue to the next lesson to **[learn about conditions and conditional statements](https://www.kaggle.com/alexisbcook/conditions-and-conditional-statements)**."
   ]
  },
  {
   "cell_type": "markdown",
   "id": "58bf33f3",
   "metadata": {
    "papermill": {
     "duration": 0.003914,
     "end_time": "2025-06-07T10:51:04.610068",
     "exception": false,
     "start_time": "2025-06-07T10:51:04.606154",
     "status": "completed"
    },
    "tags": []
   },
   "source": [
    "---\n",
    "\n",
    "\n",
    "\n",
    "\n",
    "*Have questions or comments? Visit the [course discussion forum](https://www.kaggle.com/learn/intro-to-programming/discussion) to chat with other learners.*"
   ]
  }
 ],
 "metadata": {
  "kaggle": {
   "accelerator": "none",
   "dataSources": [],
   "isGpuEnabled": false,
   "isInternetEnabled": false,
   "language": "python",
   "sourceType": "notebook"
  },
  "kernelspec": {
   "display_name": "Python 3",
   "language": "python",
   "name": "python3"
  },
  "language_info": {
   "codemirror_mode": {
    "name": "ipython",
    "version": 3
   },
   "file_extension": ".py",
   "mimetype": "text/x-python",
   "name": "python",
   "nbconvert_exporter": "python",
   "pygments_lexer": "ipython3",
   "version": "3.11.11"
  },
  "papermill": {
   "default_parameters": {},
   "duration": 6.934166,
   "end_time": "2025-06-07T10:51:05.133411",
   "environment_variables": {},
   "exception": null,
   "input_path": "__notebook__.ipynb",
   "output_path": "__notebook__.ipynb",
   "parameters": {},
   "start_time": "2025-06-07T10:50:58.199245",
   "version": "2.3.3"
  }
 },
 "nbformat": 4,
 "nbformat_minor": 5
}
